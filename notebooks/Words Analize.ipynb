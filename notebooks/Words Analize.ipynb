{
 "cells": [
  {
   "cell_type": "code",
   "execution_count": 38,
   "metadata": {},
   "outputs": [],
   "source": [
    "import pandas as pd\n",
    "import numpy as np\n",
    "import json\n",
    "import string\n",
    "from itertools import groupby "
   ]
  },
  {
   "cell_type": "code",
   "execution_count": 31,
   "metadata": {},
   "outputs": [],
   "source": [
    "with open('../Files/English_dictionary.json', 'r') as f:\n",
    "    dic = json.load(f)"
   ]
  },
  {
   "cell_type": "code",
   "execution_count": 34,
   "metadata": {},
   "outputs": [
    {
     "data": {
      "text/plain": [
       "{'a': 0,\n",
       " 'b': 0,\n",
       " 'c': 0,\n",
       " 'd': 0,\n",
       " 'e': 0,\n",
       " 'f': 0,\n",
       " 'g': 0,\n",
       " 'h': 0,\n",
       " 'i': 0,\n",
       " 'j': 0,\n",
       " 'k': 0,\n",
       " 'l': 0,\n",
       " 'm': 0,\n",
       " 'n': 0,\n",
       " 'o': 0,\n",
       " 'p': 0,\n",
       " 'q': 0,\n",
       " 'r': 0,\n",
       " 's': 0,\n",
       " 't': 0,\n",
       " 'u': 0,\n",
       " 'v': 0,\n",
       " 'w': 0,\n",
       " 'x': 0,\n",
       " 'y': 0,\n",
       " 'z': 0,\n",
       " '-': 0}"
      ]
     },
     "execution_count": 34,
     "metadata": {},
     "output_type": "execute_result"
    }
   ],
   "source": [
    "total= dict.fromkeys(string.ascii_lowercase, 0)\n",
    "total[\"-\"]=0\n",
    "total"
   ]
  },
  {
   "cell_type": "markdown",
   "metadata": {},
   "source": [
    "# Calculate probability given 2 or more letters"
   ]
  },
  {
   "cell_type": "code",
   "execution_count": 39,
   "metadata": {},
   "outputs": [],
   "source": [
    "le_no_word=[\"a\", \"b\", 'g']"
   ]
  },
  {
   "cell_type": "code",
   "execution_count": 40,
   "metadata": {},
   "outputs": [],
   "source": [
    "dic = [ele for ele in dic if all(ch not in ele for ch in le_no_word)] "
   ]
  },
  {
   "cell_type": "code",
   "execution_count": 41,
   "metadata": {},
   "outputs": [],
   "source": [
    "letters=[\"h\", \"o\"]"
   ]
  },
  {
   "cell_type": "code",
   "execution_count": 42,
   "metadata": {},
   "outputs": [],
   "source": [
    "dic = [ele for ele in dic if all(ch in ele for ch in letters)] "
   ]
  },
  {
   "cell_type": "code",
   "execution_count": 43,
   "metadata": {},
   "outputs": [],
   "source": [
    "for i in dic:\n",
    "    for x in i:\n",
    "        total[x]+=1"
   ]
  },
  {
   "cell_type": "code",
   "execution_count": 48,
   "metadata": {},
   "outputs": [],
   "source": [
    "vowels=[\"a\",\"e\", \"i\", \"o\", \"u\"]"
   ]
  },
  {
   "cell_type": "code",
   "execution_count": 49,
   "metadata": {},
   "outputs": [
    {
     "data": {
      "text/plain": [
       "{'c': 7398,\n",
       " 'd': 3825,\n",
       " 'f': 1004,\n",
       " 'j': 69,\n",
       " 'k': 894,\n",
       " 'l': 5513,\n",
       " 'm': 4548,\n",
       " 'n': 6449,\n",
       " 'p': 7248,\n",
       " 'q': 69,\n",
       " 'r': 10013,\n",
       " 's': 11075,\n",
       " 't': 9295,\n",
       " 'v': 555,\n",
       " 'w': 1156,\n",
       " 'x': 375,\n",
       " 'y': 4504,\n",
       " 'z': 516,\n",
       " '-': 0}"
      ]
     },
     "execution_count": 49,
     "metadata": {},
     "output_type": "execute_result"
    }
   ],
   "source": [
    "remove= list(set(vowels+list(letters)+le_no_word))\n",
    "total= {k:v for k,v in total.items() if k not in remove}\n",
    "total"
   ]
  },
  {
   "cell_type": "code",
   "execution_count": 50,
   "metadata": {},
   "outputs": [
    {
     "data": {
      "text/html": [
       "<div>\n",
       "<style scoped>\n",
       "    .dataframe tbody tr th:only-of-type {\n",
       "        vertical-align: middle;\n",
       "    }\n",
       "\n",
       "    .dataframe tbody tr th {\n",
       "        vertical-align: top;\n",
       "    }\n",
       "\n",
       "    .dataframe thead th {\n",
       "        text-align: right;\n",
       "    }\n",
       "</style>\n",
       "<table border=\"1\" class=\"dataframe\">\n",
       "  <thead>\n",
       "    <tr style=\"text-align: right;\">\n",
       "      <th></th>\n",
       "      <th>total</th>\n",
       "    </tr>\n",
       "    <tr>\n",
       "      <th>letter</th>\n",
       "      <th></th>\n",
       "    </tr>\n",
       "  </thead>\n",
       "  <tbody>\n",
       "    <tr>\n",
       "      <th>s</th>\n",
       "      <td>11075</td>\n",
       "    </tr>\n",
       "    <tr>\n",
       "      <th>r</th>\n",
       "      <td>10013</td>\n",
       "    </tr>\n",
       "    <tr>\n",
       "      <th>t</th>\n",
       "      <td>9295</td>\n",
       "    </tr>\n",
       "    <tr>\n",
       "      <th>c</th>\n",
       "      <td>7398</td>\n",
       "    </tr>\n",
       "    <tr>\n",
       "      <th>p</th>\n",
       "      <td>7248</td>\n",
       "    </tr>\n",
       "  </tbody>\n",
       "</table>\n",
       "</div>"
      ],
      "text/plain": [
       "        total\n",
       "letter       \n",
       "s       11075\n",
       "r       10013\n",
       "t        9295\n",
       "c        7398\n",
       "p        7248"
      ]
     },
     "execution_count": 50,
     "metadata": {},
     "output_type": "execute_result"
    }
   ],
   "source": [
    "df = pd.DataFrame.from_dict(total, orient ='index', columns=[\"total\"])\n",
    "df.index.name = \"letter\"\n",
    "df.sort_values(by=['total'], ascending=False, inplace=True)\n",
    "df.head()"
   ]
  },
  {
   "cell_type": "code",
   "execution_count": 51,
   "metadata": {},
   "outputs": [
    {
     "data": {
      "text/html": [
       "<div>\n",
       "<style scoped>\n",
       "    .dataframe tbody tr th:only-of-type {\n",
       "        vertical-align: middle;\n",
       "    }\n",
       "\n",
       "    .dataframe tbody tr th {\n",
       "        vertical-align: top;\n",
       "    }\n",
       "\n",
       "    .dataframe thead th {\n",
       "        text-align: right;\n",
       "    }\n",
       "</style>\n",
       "<table border=\"1\" class=\"dataframe\">\n",
       "  <thead>\n",
       "    <tr style=\"text-align: right;\">\n",
       "      <th></th>\n",
       "      <th>total</th>\n",
       "      <th>per</th>\n",
       "    </tr>\n",
       "    <tr>\n",
       "      <th>letter</th>\n",
       "      <th></th>\n",
       "      <th></th>\n",
       "    </tr>\n",
       "  </thead>\n",
       "  <tbody>\n",
       "    <tr>\n",
       "      <th>s</th>\n",
       "      <td>11075</td>\n",
       "      <td>14.86%</td>\n",
       "    </tr>\n",
       "    <tr>\n",
       "      <th>r</th>\n",
       "      <td>10013</td>\n",
       "      <td>13.44%</td>\n",
       "    </tr>\n",
       "    <tr>\n",
       "      <th>t</th>\n",
       "      <td>9295</td>\n",
       "      <td>12.48%</td>\n",
       "    </tr>\n",
       "    <tr>\n",
       "      <th>c</th>\n",
       "      <td>7398</td>\n",
       "      <td>9.93%</td>\n",
       "    </tr>\n",
       "    <tr>\n",
       "      <th>p</th>\n",
       "      <td>7248</td>\n",
       "      <td>9.73%</td>\n",
       "    </tr>\n",
       "  </tbody>\n",
       "</table>\n",
       "</div>"
      ],
      "text/plain": [
       "        total     per\n",
       "letter               \n",
       "s       11075  14.86%\n",
       "r       10013  13.44%\n",
       "t        9295  12.48%\n",
       "c        7398   9.93%\n",
       "p        7248   9.73%"
      ]
     },
     "execution_count": 51,
     "metadata": {},
     "output_type": "execute_result"
    }
   ],
   "source": [
    "df['per'] = (df.total * 100 / df.total.sum()).round(2).astype(str) + '%'\n",
    "df.head()"
   ]
  },
  {
   "cell_type": "code",
   "execution_count": null,
   "metadata": {},
   "outputs": [],
   "source": []
  },
  {
   "cell_type": "code",
   "execution_count": 11,
   "metadata": {},
   "outputs": [],
   "source": [
    "#NoVowel\n",
    "\n",
    "def next_letter(*letter):\n",
    "    \n",
    "    #Create df with letters as an index\n",
    "    df_words= df.loc[letter]\n",
    "    #Get new row with total letters appears\n",
    "    total = df_words.sum()\n",
    "    total.name = 'total'\n",
    "    # Assign sum of all rows of DataFrame as a new Row\n",
    "    df_words = df_words.append(total.transpose())\n",
    "    vowels=[\"a\",\"e\", \"i\", \"o\", \"u\"]\n",
    "    #Delete vowels and letters from columns and rows\n",
    "    remove= list(set(vowels+list(*letter)))\n",
    "    df_words.drop(*letter, axis=0, inplace=True)\n",
    "    df_words.drop(remove, axis=1, inplace=True)\n",
    "    #New column with percentajes for each vowel\n",
    "    df_words= df_words.T[[\"total\"]]\n",
    "    df_words['per'] = (df_words.total * 100 / df_words.total.sum()).round(4)\n",
    "    df_words.sort_values(by=\"total\", ascending=False, inplace= True)\n",
    "    \n",
    "    #Get recommended letter\n",
    "    final_word= df_words.total.idxmax()\n",
    "    print(df_words.head())\n",
    "    if (df_words.iloc[0].per - df_words.iloc[1].per) < 1:\n",
    "        return f'You should choose {final_word} with {df_words.loc[final_word].per.round(3)}% appear or {df_words.iloc[1].name} with {df_words.loc[df_words.iloc[1].name].per.round(3)}% appear'\n",
    "    else:\n",
    "        return f'You should choose {final_word} with a {df_words.loc[final_word].per.round(3)}% appear'"
   ]
  },
  {
   "cell_type": "code",
   "execution_count": 12,
   "metadata": {},
   "outputs": [
    {
     "name": "stdout",
     "output_type": "stream",
     "text": [
      "    total      per\n",
      "n  159372  14.7008\n",
      "r  151901  14.0117\n",
      "s  138365  12.7631\n",
      "t  135365  12.4864\n",
      "l  116969  10.7895\n"
     ]
    },
    {
     "data": {
      "text/plain": [
       "'You should choose n with 14.701% appear or r with 14.012% appear'"
      ]
     },
     "execution_count": 12,
     "metadata": {},
     "output_type": "execute_result"
    }
   ],
   "source": [
    "letters=[\"d\", \"c\"]\n",
    "next_letter(letters)"
   ]
  },
  {
   "cell_type": "code",
   "execution_count": 13,
   "metadata": {},
   "outputs": [],
   "source": [
    "#Vowel\n",
    "\n",
    "def next_vowel(*vowel):\n",
    "    \n",
    "    #Create df with letters as an index\n",
    "    df_vowel= df.loc[vowel]\n",
    "    print(vowel)\n",
    "    #Get new row with total letters appears    \n",
    "    total = df_vowel.sum()\n",
    "    total.name = 'total'\n",
    "    # Assign sum of all rows of DataFrame as a new Row\n",
    "    vowels=[\"a\",\"e\", \"i\", \"o\", \"u\"]\n",
    "    vowels= [i for i in vowels if i not in list(*vowel)]\n",
    "    print(vowels)\n",
    "    df_vowel = df_vowel.append(total.transpose())\n",
    "    df_vowel = df_vowel[[*vowels]].T[[\"total\"]]\n",
    "    #New column with percentajes for each vowel\n",
    "    df_vowel['per'] = (df_vowel.total * 100 / df_vowel.total.sum()).round(4)\n",
    "    df_vowel.sort_values(by=\"total\", ascending=False, inplace= True)\n",
    "    \n",
    "    #Get recommended vowel\n",
    "    final_vowel= df_vowel.total.idxmax()\n",
    "    print(df_vowel.head())\n",
    "    if (df_vowel.iloc[0].per - df_vowel.iloc[1].per) < 1:\n",
    "        return f'You should choose {final_vowel} with {df_vowel.loc[final_vowel].per.round(3)}% appear or {df_vowel.iloc[1].name} with {df_vowel.loc[df_vowel.iloc[1].name].per.round(3)}% appear'\n",
    "    else:\n",
    "        return f'You should choose {final_vowel} with a {df_vowel.loc[final_vowel].per.round(3)}% appear'"
   ]
  },
  {
   "cell_type": "code",
   "execution_count": 14,
   "metadata": {},
   "outputs": [
    {
     "name": "stdout",
     "output_type": "stream",
     "text": [
      "(['d', 'c', 'e', 'o'],)\n",
      "['a', 'i', 'u']\n",
      "    total      per\n",
      "i  567603  43.4227\n",
      "a  507824  38.8495\n",
      "u  231730  17.7278\n"
     ]
    },
    {
     "data": {
      "text/plain": [
       "'You should choose i with a 43.423% appear'"
      ]
     },
     "execution_count": 14,
     "metadata": {},
     "output_type": "execute_result"
    }
   ],
   "source": [
    "letters=[\"d\", \"c\", \"e\", \"o\"]\n",
    "next_vowel(letters)"
   ]
  },
  {
   "cell_type": "markdown",
   "metadata": {},
   "source": [
    "# Calcultate probability with empty word but we have some letters in the panel"
   ]
  },
  {
   "cell_type": "code",
   "execution_count": 15,
   "metadata": {},
   "outputs": [],
   "source": [
    "with open('../Files/English_dictionary.json', 'r') as f:\n",
    "    dic = json.load(f)"
   ]
  },
  {
   "cell_type": "code",
   "execution_count": 16,
   "metadata": {},
   "outputs": [],
   "source": [
    "def empty_consonant(dic, letters):\n",
    "    dic=list(dic.keys())\n",
    "    total= dict.fromkeys(string.ascii_lowercase, 0)\n",
    "    total[\"-\"]=0\n",
    "    dic = [ele for ele in dic if all(ch not in ele for ch in letters)] \n",
    "    for i in dic:\n",
    "        for x in i:\n",
    "            total[x]+=1\n",
    "    df = pd.DataFrame.from_dict(total, orient ='index', columns=[\"total\"])\n",
    "    df.index.name = \"letter\"\n",
    "    df.sort_values(by=['total'], ascending=False, inplace=True)\n",
    "    vowels=[\"a\",\"e\", \"i\", \"o\", \"u\"]\n",
    "    df.drop(vowels, axis=0, inplace=True)\n",
    "    df['per'] = (df.total * 100 / df.total.sum()).round(2)\n",
    "    final= df.total.idxmax()\n",
    "    if (df.iloc[0].per - df.iloc[1].per) < 1:\n",
    "        return f'You should choose {final} with {df.loc[final].per.round(3)}% appear or {df.iloc[1].name} with {df.loc[df.iloc[1].name].per.round(3)}% appear'\n",
    "    else:\n",
    "        return f'You should choose {final} with a {df.loc[final].per.round(3)}% appear'"
   ]
  },
  {
   "cell_type": "code",
   "execution_count": 17,
   "metadata": {},
   "outputs": [
    {
     "data": {
      "text/plain": [
       "'You should choose s with a 14.98% appear'"
      ]
     },
     "execution_count": 17,
     "metadata": {},
     "output_type": "execute_result"
    }
   ],
   "source": [
    "letters=[\"a\", \"b\", 'g']\n",
    "empty_consonant(dic, letters)"
   ]
  },
  {
   "cell_type": "code",
   "execution_count": 18,
   "metadata": {},
   "outputs": [],
   "source": [
    "def empty_vowel(dic, vowel):\n",
    "    dic=list(dic.keys())\n",
    "    total= dict.fromkeys(string.ascii_lowercase, 0)\n",
    "    total[\"-\"]=0\n",
    "    dic = [ele for ele in dic if all(ch not in ele for ch in vowel)] \n",
    "    for i in dic:\n",
    "        for x in i:\n",
    "            total[x]+=1\n",
    "    vowels=[\"a\",\"e\", \"i\", \"o\", \"u\"]\n",
    "    df = pd.DataFrame.from_dict(total, orient ='index', columns=[\"total\"]).loc[vowels]\n",
    "    df.index.name = \"letter\"\n",
    "    df.sort_values(by=['total'], ascending=False, inplace=True)\n",
    "    df['per'] = (df.total * 100 / df.total.sum()).round(2)\n",
    "    print(df)\n",
    "    final= df.total.idxmax()\n",
    "    if (df.iloc[0].per - df.iloc[1].per) < 1:\n",
    "        return f'You should choose {final} with {df.loc[final].per.round(3)}% appear or {df.iloc[1].name} with {df.loc[df.iloc[1].name].per.round(3)}% appear'\n",
    "    else:\n",
    "        return f'You should choose {final} with a {df.loc[final].per.round(3)}% appear'"
   ]
  },
  {
   "cell_type": "code",
   "execution_count": 19,
   "metadata": {},
   "outputs": [
    {
     "name": "stdout",
     "output_type": "stream",
     "text": [
      "         total    per\n",
      "letter               \n",
      "e       124566  37.66\n",
      "i        82648  24.99\n",
      "o        81574  24.66\n",
      "u        41994  12.70\n",
      "a            0   0.00\n"
     ]
    },
    {
     "data": {
      "text/plain": [
       "'You should choose e with a 37.66% appear'"
      ]
     },
     "execution_count": 19,
     "metadata": {},
     "output_type": "execute_result"
    }
   ],
   "source": [
    "letters=[\"a\", \"b\", 'g']\n",
    "vowels=[\"a\",\"e\", \"i\", \"o\", \"u\"]\n",
    "empty_vowel(dic, letters)"
   ]
  },
  {
   "cell_type": "code",
   "execution_count": 20,
   "metadata": {},
   "outputs": [
    {
     "data": {
      "text/plain": [
       "{'a': 0,\n",
       " 'b': 0,\n",
       " 'c': 0,\n",
       " 'd': 0,\n",
       " 'e': 0,\n",
       " 'f': 0,\n",
       " 'g': 0,\n",
       " 'h': 0,\n",
       " 'i': 0,\n",
       " 'j': 0,\n",
       " 'k': 0,\n",
       " 'l': 0,\n",
       " 'm': 0,\n",
       " 'n': 0,\n",
       " 'o': 0,\n",
       " 'p': 0,\n",
       " 'q': 0,\n",
       " 'r': 0,\n",
       " 's': 0,\n",
       " 't': 0,\n",
       " 'u': 0,\n",
       " 'v': 0,\n",
       " 'w': 0,\n",
       " 'x': 0,\n",
       " 'y': 0,\n",
       " 'z': 0,\n",
       " '-': 0}"
      ]
     },
     "execution_count": 20,
     "metadata": {},
     "output_type": "execute_result"
    }
   ],
   "source": [
    "total= dict.fromkeys(string.ascii_lowercase, 0)\n",
    "total[\"-\"]=0\n",
    "total"
   ]
  },
  {
   "cell_type": "code",
   "execution_count": 21,
   "metadata": {},
   "outputs": [],
   "source": [
    "letters=[\"a\", \"b\", 'g']"
   ]
  },
  {
   "cell_type": "code",
   "execution_count": 22,
   "metadata": {},
   "outputs": [],
   "source": [
    "dic = [ele for ele in dic if all(ch not in ele for ch in letters)] "
   ]
  },
  {
   "cell_type": "code",
   "execution_count": 23,
   "metadata": {},
   "outputs": [],
   "source": [
    "for i in dic:\n",
    "    for x in i:\n",
    "        total[x]+=1"
   ]
  },
  {
   "cell_type": "code",
   "execution_count": 24,
   "metadata": {
    "scrolled": true
   },
   "outputs": [
    {
     "data": {
      "text/plain": [
       "{'a': 0,\n",
       " 'b': 0,\n",
       " 'c': 42337,\n",
       " 'd': 34772,\n",
       " 'e': 124566,\n",
       " 'f': 14676,\n",
       " 'g': 0,\n",
       " 'h': 25327,\n",
       " 'i': 82648,\n",
       " 'j': 1674,\n",
       " 'k': 9484,\n",
       " 'l': 42658,\n",
       " 'm': 27734,\n",
       " 'n': 59009,\n",
       " 'o': 81574,\n",
       " 'p': 35908,\n",
       " 'q': 1826,\n",
       " 'r': 66986,\n",
       " 's': 82394,\n",
       " 't': 59785,\n",
       " 'u': 41994,\n",
       " 'v': 10980,\n",
       " 'w': 7801,\n",
       " 'x': 3479,\n",
       " 'y': 19479,\n",
       " 'z': 3547,\n",
       " '-': 0}"
      ]
     },
     "execution_count": 24,
     "metadata": {},
     "output_type": "execute_result"
    }
   ],
   "source": [
    "total"
   ]
  },
  {
   "cell_type": "code",
   "execution_count": 25,
   "metadata": {},
   "outputs": [],
   "source": [
    "vowels=[\"a\",\"e\", \"i\", \"o\", \"u\"]"
   ]
  },
  {
   "cell_type": "code",
   "execution_count": 26,
   "metadata": {},
   "outputs": [
    {
     "data": {
      "text/html": [
       "<div>\n",
       "<style scoped>\n",
       "    .dataframe tbody tr th:only-of-type {\n",
       "        vertical-align: middle;\n",
       "    }\n",
       "\n",
       "    .dataframe tbody tr th {\n",
       "        vertical-align: top;\n",
       "    }\n",
       "\n",
       "    .dataframe thead th {\n",
       "        text-align: right;\n",
       "    }\n",
       "</style>\n",
       "<table border=\"1\" class=\"dataframe\">\n",
       "  <thead>\n",
       "    <tr style=\"text-align: right;\">\n",
       "      <th></th>\n",
       "      <th>total</th>\n",
       "    </tr>\n",
       "  </thead>\n",
       "  <tbody>\n",
       "    <tr>\n",
       "      <th>a</th>\n",
       "      <td>0</td>\n",
       "    </tr>\n",
       "    <tr>\n",
       "      <th>b</th>\n",
       "      <td>0</td>\n",
       "    </tr>\n",
       "    <tr>\n",
       "      <th>c</th>\n",
       "      <td>42337</td>\n",
       "    </tr>\n",
       "    <tr>\n",
       "      <th>d</th>\n",
       "      <td>34772</td>\n",
       "    </tr>\n",
       "    <tr>\n",
       "      <th>e</th>\n",
       "      <td>124566</td>\n",
       "    </tr>\n",
       "    <tr>\n",
       "      <th>f</th>\n",
       "      <td>14676</td>\n",
       "    </tr>\n",
       "    <tr>\n",
       "      <th>g</th>\n",
       "      <td>0</td>\n",
       "    </tr>\n",
       "    <tr>\n",
       "      <th>h</th>\n",
       "      <td>25327</td>\n",
       "    </tr>\n",
       "    <tr>\n",
       "      <th>i</th>\n",
       "      <td>82648</td>\n",
       "    </tr>\n",
       "    <tr>\n",
       "      <th>j</th>\n",
       "      <td>1674</td>\n",
       "    </tr>\n",
       "    <tr>\n",
       "      <th>k</th>\n",
       "      <td>9484</td>\n",
       "    </tr>\n",
       "    <tr>\n",
       "      <th>l</th>\n",
       "      <td>42658</td>\n",
       "    </tr>\n",
       "    <tr>\n",
       "      <th>m</th>\n",
       "      <td>27734</td>\n",
       "    </tr>\n",
       "    <tr>\n",
       "      <th>n</th>\n",
       "      <td>59009</td>\n",
       "    </tr>\n",
       "    <tr>\n",
       "      <th>o</th>\n",
       "      <td>81574</td>\n",
       "    </tr>\n",
       "    <tr>\n",
       "      <th>p</th>\n",
       "      <td>35908</td>\n",
       "    </tr>\n",
       "    <tr>\n",
       "      <th>q</th>\n",
       "      <td>1826</td>\n",
       "    </tr>\n",
       "    <tr>\n",
       "      <th>r</th>\n",
       "      <td>66986</td>\n",
       "    </tr>\n",
       "    <tr>\n",
       "      <th>s</th>\n",
       "      <td>82394</td>\n",
       "    </tr>\n",
       "    <tr>\n",
       "      <th>t</th>\n",
       "      <td>59785</td>\n",
       "    </tr>\n",
       "    <tr>\n",
       "      <th>u</th>\n",
       "      <td>41994</td>\n",
       "    </tr>\n",
       "    <tr>\n",
       "      <th>v</th>\n",
       "      <td>10980</td>\n",
       "    </tr>\n",
       "    <tr>\n",
       "      <th>w</th>\n",
       "      <td>7801</td>\n",
       "    </tr>\n",
       "    <tr>\n",
       "      <th>x</th>\n",
       "      <td>3479</td>\n",
       "    </tr>\n",
       "    <tr>\n",
       "      <th>y</th>\n",
       "      <td>19479</td>\n",
       "    </tr>\n",
       "    <tr>\n",
       "      <th>z</th>\n",
       "      <td>3547</td>\n",
       "    </tr>\n",
       "    <tr>\n",
       "      <th>-</th>\n",
       "      <td>0</td>\n",
       "    </tr>\n",
       "  </tbody>\n",
       "</table>\n",
       "</div>"
      ],
      "text/plain": [
       "    total\n",
       "a       0\n",
       "b       0\n",
       "c   42337\n",
       "d   34772\n",
       "e  124566\n",
       "f   14676\n",
       "g       0\n",
       "h   25327\n",
       "i   82648\n",
       "j    1674\n",
       "k    9484\n",
       "l   42658\n",
       "m   27734\n",
       "n   59009\n",
       "o   81574\n",
       "p   35908\n",
       "q    1826\n",
       "r   66986\n",
       "s   82394\n",
       "t   59785\n",
       "u   41994\n",
       "v   10980\n",
       "w    7801\n",
       "x    3479\n",
       "y   19479\n",
       "z    3547\n",
       "-       0"
      ]
     },
     "execution_count": 26,
     "metadata": {},
     "output_type": "execute_result"
    }
   ],
   "source": [
    "df = pd.DataFrame.from_dict(total, orient ='index', columns=[\"total\"])\n",
    "df"
   ]
  },
  {
   "cell_type": "code",
   "execution_count": 27,
   "metadata": {},
   "outputs": [],
   "source": [
    "df = pd.DataFrame.from_dict(total, orient ='index', columns=[\"total\"])\n",
    "df.index.name = \"letter\"\n",
    "df.sort_values(by=['total'], ascending=False, inplace=True)"
   ]
  },
  {
   "cell_type": "code",
   "execution_count": 28,
   "metadata": {},
   "outputs": [
    {
     "data": {
      "text/html": [
       "<div>\n",
       "<style scoped>\n",
       "    .dataframe tbody tr th:only-of-type {\n",
       "        vertical-align: middle;\n",
       "    }\n",
       "\n",
       "    .dataframe tbody tr th {\n",
       "        vertical-align: top;\n",
       "    }\n",
       "\n",
       "    .dataframe thead th {\n",
       "        text-align: right;\n",
       "    }\n",
       "</style>\n",
       "<table border=\"1\" class=\"dataframe\">\n",
       "  <thead>\n",
       "    <tr style=\"text-align: right;\">\n",
       "      <th></th>\n",
       "      <th>total</th>\n",
       "    </tr>\n",
       "    <tr>\n",
       "      <th>letter</th>\n",
       "      <th></th>\n",
       "    </tr>\n",
       "  </thead>\n",
       "  <tbody>\n",
       "    <tr>\n",
       "      <th>e</th>\n",
       "      <td>124566</td>\n",
       "    </tr>\n",
       "    <tr>\n",
       "      <th>i</th>\n",
       "      <td>82648</td>\n",
       "    </tr>\n",
       "    <tr>\n",
       "      <th>s</th>\n",
       "      <td>82394</td>\n",
       "    </tr>\n",
       "    <tr>\n",
       "      <th>o</th>\n",
       "      <td>81574</td>\n",
       "    </tr>\n",
       "    <tr>\n",
       "      <th>r</th>\n",
       "      <td>66986</td>\n",
       "    </tr>\n",
       "    <tr>\n",
       "      <th>t</th>\n",
       "      <td>59785</td>\n",
       "    </tr>\n",
       "    <tr>\n",
       "      <th>n</th>\n",
       "      <td>59009</td>\n",
       "    </tr>\n",
       "    <tr>\n",
       "      <th>l</th>\n",
       "      <td>42658</td>\n",
       "    </tr>\n",
       "    <tr>\n",
       "      <th>c</th>\n",
       "      <td>42337</td>\n",
       "    </tr>\n",
       "    <tr>\n",
       "      <th>u</th>\n",
       "      <td>41994</td>\n",
       "    </tr>\n",
       "    <tr>\n",
       "      <th>p</th>\n",
       "      <td>35908</td>\n",
       "    </tr>\n",
       "    <tr>\n",
       "      <th>d</th>\n",
       "      <td>34772</td>\n",
       "    </tr>\n",
       "    <tr>\n",
       "      <th>m</th>\n",
       "      <td>27734</td>\n",
       "    </tr>\n",
       "    <tr>\n",
       "      <th>h</th>\n",
       "      <td>25327</td>\n",
       "    </tr>\n",
       "    <tr>\n",
       "      <th>y</th>\n",
       "      <td>19479</td>\n",
       "    </tr>\n",
       "    <tr>\n",
       "      <th>f</th>\n",
       "      <td>14676</td>\n",
       "    </tr>\n",
       "    <tr>\n",
       "      <th>v</th>\n",
       "      <td>10980</td>\n",
       "    </tr>\n",
       "    <tr>\n",
       "      <th>k</th>\n",
       "      <td>9484</td>\n",
       "    </tr>\n",
       "    <tr>\n",
       "      <th>w</th>\n",
       "      <td>7801</td>\n",
       "    </tr>\n",
       "    <tr>\n",
       "      <th>z</th>\n",
       "      <td>3547</td>\n",
       "    </tr>\n",
       "    <tr>\n",
       "      <th>x</th>\n",
       "      <td>3479</td>\n",
       "    </tr>\n",
       "    <tr>\n",
       "      <th>q</th>\n",
       "      <td>1826</td>\n",
       "    </tr>\n",
       "    <tr>\n",
       "      <th>j</th>\n",
       "      <td>1674</td>\n",
       "    </tr>\n",
       "    <tr>\n",
       "      <th>a</th>\n",
       "      <td>0</td>\n",
       "    </tr>\n",
       "    <tr>\n",
       "      <th>b</th>\n",
       "      <td>0</td>\n",
       "    </tr>\n",
       "    <tr>\n",
       "      <th>g</th>\n",
       "      <td>0</td>\n",
       "    </tr>\n",
       "    <tr>\n",
       "      <th>-</th>\n",
       "      <td>0</td>\n",
       "    </tr>\n",
       "  </tbody>\n",
       "</table>\n",
       "</div>"
      ],
      "text/plain": [
       "         total\n",
       "letter        \n",
       "e       124566\n",
       "i        82648\n",
       "s        82394\n",
       "o        81574\n",
       "r        66986\n",
       "t        59785\n",
       "n        59009\n",
       "l        42658\n",
       "c        42337\n",
       "u        41994\n",
       "p        35908\n",
       "d        34772\n",
       "m        27734\n",
       "h        25327\n",
       "y        19479\n",
       "f        14676\n",
       "v        10980\n",
       "k         9484\n",
       "w         7801\n",
       "z         3547\n",
       "x         3479\n",
       "q         1826\n",
       "j         1674\n",
       "a            0\n",
       "b            0\n",
       "g            0\n",
       "-            0"
      ]
     },
     "execution_count": 28,
     "metadata": {},
     "output_type": "execute_result"
    }
   ],
   "source": [
    "df"
   ]
  },
  {
   "cell_type": "code",
   "execution_count": 29,
   "metadata": {},
   "outputs": [
    {
     "data": {
      "text/html": [
       "<div>\n",
       "<style scoped>\n",
       "    .dataframe tbody tr th:only-of-type {\n",
       "        vertical-align: middle;\n",
       "    }\n",
       "\n",
       "    .dataframe tbody tr th {\n",
       "        vertical-align: top;\n",
       "    }\n",
       "\n",
       "    .dataframe thead th {\n",
       "        text-align: right;\n",
       "    }\n",
       "</style>\n",
       "<table border=\"1\" class=\"dataframe\">\n",
       "  <thead>\n",
       "    <tr style=\"text-align: right;\">\n",
       "      <th></th>\n",
       "      <th>total</th>\n",
       "      <th>per</th>\n",
       "    </tr>\n",
       "    <tr>\n",
       "      <th>letter</th>\n",
       "      <th></th>\n",
       "      <th></th>\n",
       "    </tr>\n",
       "  </thead>\n",
       "  <tbody>\n",
       "    <tr>\n",
       "      <th>e</th>\n",
       "      <td>124566</td>\n",
       "      <td>14.14%</td>\n",
       "    </tr>\n",
       "    <tr>\n",
       "      <th>i</th>\n",
       "      <td>82648</td>\n",
       "      <td>9.39%</td>\n",
       "    </tr>\n",
       "    <tr>\n",
       "      <th>s</th>\n",
       "      <td>82394</td>\n",
       "      <td>9.36%</td>\n",
       "    </tr>\n",
       "    <tr>\n",
       "      <th>o</th>\n",
       "      <td>81574</td>\n",
       "      <td>9.26%</td>\n",
       "    </tr>\n",
       "    <tr>\n",
       "      <th>r</th>\n",
       "      <td>66986</td>\n",
       "      <td>7.61%</td>\n",
       "    </tr>\n",
       "  </tbody>\n",
       "</table>\n",
       "</div>"
      ],
      "text/plain": [
       "         total     per\n",
       "letter                \n",
       "e       124566  14.14%\n",
       "i        82648   9.39%\n",
       "s        82394   9.36%\n",
       "o        81574   9.26%\n",
       "r        66986   7.61%"
      ]
     },
     "execution_count": 29,
     "metadata": {},
     "output_type": "execute_result"
    }
   ],
   "source": [
    "df['per'] = (df.total * 100 / df.total.sum()).round(2).astype(str) + '%'\n",
    "df.head()"
   ]
  }
 ],
 "metadata": {
  "kernelspec": {
   "display_name": "Python 3",
   "language": "python",
   "name": "python3"
  },
  "language_info": {
   "codemirror_mode": {
    "name": "ipython",
    "version": 3
   },
   "file_extension": ".py",
   "mimetype": "text/x-python",
   "name": "python",
   "nbconvert_exporter": "python",
   "pygments_lexer": "ipython3",
   "version": "3.6.9"
  }
 },
 "nbformat": 4,
 "nbformat_minor": 4
}
